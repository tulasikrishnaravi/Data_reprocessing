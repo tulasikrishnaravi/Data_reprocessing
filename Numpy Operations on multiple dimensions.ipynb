{
 "cells": [
  {
   "cell_type": "code",
   "execution_count": 15,
   "metadata": {},
   "outputs": [
    {
     "name": "stdout",
     "output_type": "stream",
     "text": [
      "[1 2 3 4 5 6 7 8 9]\n",
      "[1 2 0 4 5 6 7 8 9]\n",
      "[6 7 8]\n",
      "[12 12 12]\n",
      "[ 1  2  0  4  5 12 12 12  9]\n"
     ]
    }
   ],
   "source": [
    "#1D array perations indexing/silicing\n",
    "import numpy as np\n",
    "x=np.array([1,2,3,4,5,6,7,8,9])\n",
    "print(x)\n",
    "x.dtype\n",
    "#indexing and assigning values\n",
    "x[2]=0\n",
    "print(x)\n",
    "# silicing and assiging value\n",
    "print(x[5:8])\n",
    "x[5:8]=12\n",
    "print(x[5:8])\n",
    "# it is a view so what ever changes made on the index or silicing will be imapacted to source array.\n",
    "# The value is propagated to entire selection\n",
    "print(x)\n"
   ]
  },
  {
   "cell_type": "code",
   "execution_count": 33,
   "metadata": {},
   "outputs": [
    {
     "name": "stdout",
     "output_type": "stream",
     "text": [
      "[[ 1  2  3  4]\n",
      " [ 5  6  7  8]\n",
      " [ 8  9 10 11]]\n",
      "[5 6 7 8]\n",
      "5\n",
      "[[1 2 3 4]\n",
      " [5 6 7 8]]\n",
      "[[1 2]\n",
      " [5 6]]\n",
      "[[12 12]\n",
      " [12 12]]\n",
      "[[12 12  3  4]\n",
      " [12 12  7  8]\n",
      " [ 8  9 10 11]]\n"
     ]
    }
   ],
   "source": [
    "#2D array perations indexing/silicing\n",
    "import numpy as np\n",
    "y=np.array([[1,2,3,4],[5,6,7,8],[8,9,10,11]])\n",
    "print(y)\n",
    "#indexing and assigning values\n",
    "#In 2d scalar indexing will refer lists in it.\n",
    "print(y[1])\n",
    "#To index single elements in 2D then we need to use [row-axis,column-axis]\n",
    "print(y[1,0])\n",
    "#Silicing and assiging value\n",
    "#row axis silicing \n",
    "print(y[:2])\n",
    "#Column silicing \n",
    "print(y[:2,:2])\n",
    "# Assignment to the selection \n",
    "y[:2,:2]=12\n",
    "print(y[:2,:2])\n",
    "# it is a view so what ever changes made on the index or silicing will be imapacted to source array.\n",
    "# The value is propagated to entire selection\n",
    "print(y)"
   ]
  },
  {
   "cell_type": "code",
   "execution_count": 36,
   "metadata": {},
   "outputs": [
    {
     "name": "stdout",
     "output_type": "stream",
     "text": [
      "[[[ 1  2  3  4]\n",
      "  [ 5  6  7  8]]\n",
      "\n",
      " [[ 9 10 11 12]\n",
      "  [13 14 15 16]]]\n",
      "[[ 9 10 11 12]\n",
      " [13 14 15 16]]\n",
      "[ 9 10 11 12]\n",
      "[[ 9 10 11 12]\n",
      " [13 14 15 16]]\n",
      "[[ 9 10]\n",
      " [13 14]]\n",
      "[[12 12]\n",
      " [12 12]]\n",
      "[[[ 1  2  3  4]\n",
      "  [ 5  6  7  8]]\n",
      "\n",
      " [[12 12 11 12]\n",
      "  [12 12 15 16]]]\n",
      "[5 6 7 8]\n"
     ]
    }
   ],
   "source": [
    "#3D array perations indexing/silicing\n",
    "import numpy as np\n",
    "z=np.array([[[1,2,3,4],[5,6,7,8]],[[9,10,11,12],[13,14,15,16]]])\n",
    "print(z)\n",
    "#indexing and assigning values\n",
    "#In 3d scalar indexing will refer lists in it.\n",
    "print(z[1])\n",
    "#To index single elements in 2D then we need to use [row-axis,column-axis]\n",
    "print(z[1,0])\n",
    "#Silicing and assiging value\n",
    "#row axis silicing \n",
    "t=z[1]\n",
    "print(t[:2])\n",
    "#Column silicing \n",
    "print(t[:2,:2])\n",
    "# Assignment to the selection \n",
    "t[:2,:2]=12\n",
    "print(t[:2,:2])\n",
    "# it is a view so what ever changes made on the index or silicing will be imapacted to source array.\n",
    "# The value is propagated to entire selection\n",
    "print(z)\n"
   ]
  },
  {
   "cell_type": "code",
   "execution_count": null,
   "metadata": {},
   "outputs": [],
   "source": []
  }
 ],
 "metadata": {
  "kernelspec": {
   "display_name": "Python 3",
   "language": "python",
   "name": "python3"
  },
  "language_info": {
   "codemirror_mode": {
    "name": "ipython",
    "version": 3
   },
   "file_extension": ".py",
   "mimetype": "text/x-python",
   "name": "python",
   "nbconvert_exporter": "python",
   "pygments_lexer": "ipython3",
   "version": "3.7.3"
  }
 },
 "nbformat": 4,
 "nbformat_minor": 2
}
